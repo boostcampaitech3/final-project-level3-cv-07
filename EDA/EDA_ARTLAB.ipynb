{
 "cells": [
  {
   "cell_type": "code",
   "execution_count": 1,
   "id": "88b331de-9ec7-4087-8939-5a57fcf7d66f",
   "metadata": {},
   "outputs": [],
   "source": [
    "import os\n",
    "import cv2\n",
    "import json\n",
    "\n",
    "import numpy as np\n",
    "import pandas as pd\n",
    "\n",
    "import seaborn as sns\n",
    "import matplotlib.pyplot as plt\n",
    "\n",
    "from tqdm import tqdm\n",
    "import warnings"
   ]
  },
  {
   "cell_type": "code",
   "execution_count": 2,
   "id": "190b974b-7ab6-4eba-966b-aeb2d9b95a81",
   "metadata": {},
   "outputs": [],
   "source": [
    "warnings.filterwarnings(action='ignore')"
   ]
  },
  {
   "cell_type": "code",
   "execution_count": 3,
   "id": "2bb17184-dd49-4b18-9dd2-c2e6b3054e4a",
   "metadata": {},
   "outputs": [],
   "source": [
    "img_train_path = '../../data/train/JPEGImages'\n",
    "img_val_path = '../../data/val/JPEGImages'"
   ]
  },
  {
   "cell_type": "code",
   "execution_count": 4,
   "id": "dc4e4f4d-3523-405d-bd42-1719e07306e6",
   "metadata": {},
   "outputs": [
    {
     "name": "stdout",
     "output_type": "stream",
     "text": [
      "ext : {'json', 'jpg'}\n"
     ]
    }
   ],
   "source": [
    "# 확장자 종류 확인\n",
    "ext = set() \n",
    "for p in os.listdir(img_train_path):\n",
    "    ext.add(p.split('.')[-1])\n",
    "for p in os.listdir(img_val_path):\n",
    "    ext.add(p.split('.')[-1])\n",
    "print(f'ext : {ext}')"
   ]
  },
  {
   "cell_type": "code",
   "execution_count": 5,
   "id": "b04ce39a-3b49-433f-b5f8-48afddb8b8b0",
   "metadata": {},
   "outputs": [
    {
     "name": "stdout",
     "output_type": "stream",
     "text": [
      "# of train : 3398\n",
      "# of val : 577\n"
     ]
    }
   ],
   "source": [
    "# image, json filename을 list로 저장\n",
    "img_train_list = []\n",
    "json_train_list = []\n",
    "img_val_list = []\n",
    "json_val_list = []\n",
    "for p in os.listdir(img_train_path):\n",
    "    if p.split('.')[-1] == 'jpg':\n",
    "        img_train_list.append(p)\n",
    "    elif p.split('.')[-1] == 'json':\n",
    "        json_train_list.append(p)\n",
    "for p in os.listdir(img_val_path):\n",
    "    if p.split('.')[-1] == 'jpg':\n",
    "        img_val_list.append(p)\n",
    "    elif p.split('.')[-1] == 'json':\n",
    "        json_val_list.append(p)\n",
    "# data 개수 확인\n",
    "print(f'# of train : {len(img_train_list)}')\n",
    "print(f'# of val : {len(img_val_list)}')"
   ]
  },
  {
   "cell_type": "code",
   "execution_count": 6,
   "id": "4462ae00-eba4-4253-b194-e2601c451db8",
   "metadata": {},
   "outputs": [
    {
     "name": "stdout",
     "output_type": "stream",
     "text": [
      "# of train_mismatch : 0\n",
      "# of val_mismatch : 0\n"
     ]
    }
   ],
   "source": [
    "# json과 img 대응이 잘 되는지 확인\n",
    "cnt_train = 0\n",
    "cnt_val = 0\n",
    "for i in img_train_list:\n",
    "    if ''.join(i.split('.')[:-1])+'.json' not in json_train_list:\n",
    "        cnt_train += 1\n",
    "for i in img_val_list:\n",
    "    if ''.join(i.split('.')[:-1])+'.json' not in json_val_list:\n",
    "        cnt_val += 1\n",
    "print(f'# of train_mismatch : {cnt_train}')\n",
    "print(f'# of val_mismatch : {cnt_val}')"
   ]
  },
  {
   "cell_type": "code",
   "execution_count": 7,
   "id": "00e59603-9ee0-4df9-9e46-519f4ee4ba99",
   "metadata": {},
   "outputs": [
    {
     "name": "stderr",
     "output_type": "stream",
     "text": [
      "100%|██████████| 3398/3398 [04:39<00:00, 12.18it/s]\n",
      "100%|██████████| 577/577 [00:48<00:00, 11.93it/s]\n"
     ]
    }
   ],
   "source": [
    "# train/val img의 filename, width, height, mean(BGR), std(BGR) 확인\n",
    "train_info = {'filename' : [], 'width' : [], 'height' : [],'mean' : [], 'std' : []}\n",
    "val_info = {'filename' : [], 'width' : [], 'height' : [],'mean' : [], 'std' : []}\n",
    "for p in tqdm(img_train_list):\n",
    "    img = cv2.imread(os.path.join(img_train_path,p))\n",
    "    train_info['filename'].append(p)\n",
    "    train_info['width'].append(img.shape[1])\n",
    "    train_info['height'].append(img.shape[0])\n",
    "    train_info['mean'].append(img.mean(axis=(0,1)))\n",
    "    train_info['std'].append(img.std(axis=(0,1)))\n",
    "for p in tqdm(img_val_list):\n",
    "    img = cv2.imread(os.path.join(img_val_path,p))\n",
    "    val_info['filename'].append(p)\n",
    "    val_info['width'].append(img.shape[1])\n",
    "    val_info['height'].append(img.shape[0])\n",
    "    val_info['mean'].append(img.mean(axis=(0,1)))\n",
    "    val_info['std'].append(img.std(axis=(0,1)))\n",
    "train_df = pd.DataFrame(train_info)\n",
    "val_df = pd.DataFrame(val_info)"
   ]
  },
  {
   "cell_type": "code",
   "execution_count": 8,
   "id": "6e60b931-f2a7-4a63-bacc-2913ec94c5de",
   "metadata": {
    "tags": []
   },
   "outputs": [],
   "source": [
    "train_part = []\n",
    "train_oil = []\n",
    "train_sen = []\n",
    "train_pig = []\n",
    "train_wri = []\n",
    "train_hyd = []\n",
    "for idx, train_f in enumerate(train_df['filename']):\n",
    "    json_path = os.path.join(img_train_path,''.join(train_f.split('.')[:-1]))+'.json'\n",
    "    with open(json_path, 'r') as f:\n",
    "        json_data = json.load(f)\n",
    "    train_part.append(json_data['part'])\n",
    "    train_oil.append(json_data['oil'])\n",
    "    train_sen.append(json_data['sensitive'])\n",
    "    train_pig.append(json_data['pigmentation'])\n",
    "    train_wri.append(json_data['wrinkle'])\n",
    "    train_hyd.append(json_data['hydration'])\n",
    "train_df['part'] = train_part\n",
    "train_df['oil'] = train_oil\n",
    "train_df['sensitive'] = train_sen\n",
    "train_df['pigmentation'] = train_pig\n",
    "train_df['wrinkle'] = train_wri\n",
    "train_df['hydration'] = train_hyd"
   ]
  },
  {
   "cell_type": "code",
   "execution_count": 9,
   "id": "f7df2627-d553-415b-8d82-9ceede0abb67",
   "metadata": {},
   "outputs": [],
   "source": [
    "val_part = []\n",
    "val_oil = []\n",
    "val_sen = []\n",
    "val_pig = []\n",
    "val_wri = []\n",
    "val_hyd = []\n",
    "for idx, val_f in enumerate(val_df['filename']):\n",
    "    json_path = os.path.join(img_val_path,''.join(val_f.split('.')[:-1]))+'.json'\n",
    "    with open(json_path, 'r') as f:\n",
    "        json_data = json.load(f)\n",
    "    val_part.append(json_data['part'])\n",
    "    val_oil.append(json_data['oil'])\n",
    "    val_sen.append(json_data['sensitive'])\n",
    "    val_pig.append(json_data['pigmentation'])\n",
    "    val_wri.append(json_data['wrinkle'])\n",
    "    val_hyd.append(json_data['hydration'])\n",
    "val_df['part'] = val_part\n",
    "val_df['oil'] = val_oil\n",
    "val_df['sensitive'] = val_sen\n",
    "val_df['pigmentation'] = val_pig\n",
    "val_df['wrinkle'] = val_wri\n",
    "val_df['hydration'] = val_hyd"
   ]
  },
  {
   "cell_type": "code",
   "execution_count": 55,
   "id": "9afe401b-6c78-4780-b289-4fa08fd25fb0",
   "metadata": {},
   "outputs": [],
   "source": [
    "train_h_describe = pd.DataFrame()\n",
    "for idx, part in enumerate(['cheeck', 'upper_face', 'mid_face', 'lower_face']):\n",
    "    train_h_describe[part] = train_df[train_df['part']==idx]['height'].describe()\n",
    "val_h_describe = pd.DataFrame()\n",
    "for idx, part in enumerate(['cheeck', 'upper_face', 'mid_face', 'lower_face']):\n",
    "    val_h_describe[part] = val_df[train_df['part']==idx]['height'].describe()"
   ]
  },
  {
   "cell_type": "code",
   "execution_count": 56,
   "id": "7c9eb1c0-daf8-422e-95d5-32102512f1eb",
   "metadata": {},
   "outputs": [
    {
     "data": {
      "text/html": [
       "<div>\n",
       "<style scoped>\n",
       "    .dataframe tbody tr th:only-of-type {\n",
       "        vertical-align: middle;\n",
       "    }\n",
       "\n",
       "    .dataframe tbody tr th {\n",
       "        vertical-align: top;\n",
       "    }\n",
       "\n",
       "    .dataframe thead th {\n",
       "        text-align: right;\n",
       "    }\n",
       "</style>\n",
       "<table border=\"1\" class=\"dataframe\">\n",
       "  <thead>\n",
       "    <tr style=\"text-align: right;\">\n",
       "      <th></th>\n",
       "      <th>cheeck</th>\n",
       "      <th>upper_face</th>\n",
       "      <th>mid_face</th>\n",
       "      <th>lower_face</th>\n",
       "    </tr>\n",
       "  </thead>\n",
       "  <tbody>\n",
       "    <tr>\n",
       "      <th>count</th>\n",
       "      <td>1358.000000</td>\n",
       "      <td>680.000000</td>\n",
       "      <td>680.000000</td>\n",
       "      <td>680.000000</td>\n",
       "    </tr>\n",
       "    <tr>\n",
       "      <th>mean</th>\n",
       "      <td>938.266568</td>\n",
       "      <td>719.002941</td>\n",
       "      <td>470.711765</td>\n",
       "      <td>485.892647</td>\n",
       "    </tr>\n",
       "    <tr>\n",
       "      <th>std</th>\n",
       "      <td>54.662639</td>\n",
       "      <td>56.564949</td>\n",
       "      <td>31.830819</td>\n",
       "      <td>49.762546</td>\n",
       "    </tr>\n",
       "    <tr>\n",
       "      <th>min</th>\n",
       "      <td>790.000000</td>\n",
       "      <td>482.000000</td>\n",
       "      <td>373.000000</td>\n",
       "      <td>332.000000</td>\n",
       "    </tr>\n",
       "    <tr>\n",
       "      <th>25%</th>\n",
       "      <td>904.000000</td>\n",
       "      <td>687.000000</td>\n",
       "      <td>449.000000</td>\n",
       "      <td>452.000000</td>\n",
       "    </tr>\n",
       "    <tr>\n",
       "      <th>50%</th>\n",
       "      <td>937.000000</td>\n",
       "      <td>722.000000</td>\n",
       "      <td>470.000000</td>\n",
       "      <td>483.000000</td>\n",
       "    </tr>\n",
       "    <tr>\n",
       "      <th>75%</th>\n",
       "      <td>968.000000</td>\n",
       "      <td>754.000000</td>\n",
       "      <td>492.000000</td>\n",
       "      <td>515.000000</td>\n",
       "    </tr>\n",
       "    <tr>\n",
       "      <th>max</th>\n",
       "      <td>1309.000000</td>\n",
       "      <td>887.000000</td>\n",
       "      <td>585.000000</td>\n",
       "      <td>662.000000</td>\n",
       "    </tr>\n",
       "  </tbody>\n",
       "</table>\n",
       "</div>"
      ],
      "text/plain": [
       "            cheeck  upper_face    mid_face  lower_face\n",
       "count  1358.000000  680.000000  680.000000  680.000000\n",
       "mean    938.266568  719.002941  470.711765  485.892647\n",
       "std      54.662639   56.564949   31.830819   49.762546\n",
       "min     790.000000  482.000000  373.000000  332.000000\n",
       "25%     904.000000  687.000000  449.000000  452.000000\n",
       "50%     937.000000  722.000000  470.000000  483.000000\n",
       "75%     968.000000  754.000000  492.000000  515.000000\n",
       "max    1309.000000  887.000000  585.000000  662.000000"
      ]
     },
     "execution_count": 56,
     "metadata": {},
     "output_type": "execute_result"
    }
   ],
   "source": [
    "train_h_describe"
   ]
  },
  {
   "cell_type": "code",
   "execution_count": 57,
   "id": "cf824a78-eab6-4271-b750-3a0ad0aa100c",
   "metadata": {},
   "outputs": [
    {
     "data": {
      "text/html": [
       "<div>\n",
       "<style scoped>\n",
       "    .dataframe tbody tr th:only-of-type {\n",
       "        vertical-align: middle;\n",
       "    }\n",
       "\n",
       "    .dataframe tbody tr th {\n",
       "        vertical-align: top;\n",
       "    }\n",
       "\n",
       "    .dataframe thead th {\n",
       "        text-align: right;\n",
       "    }\n",
       "</style>\n",
       "<table border=\"1\" class=\"dataframe\">\n",
       "  <thead>\n",
       "    <tr style=\"text-align: right;\">\n",
       "      <th></th>\n",
       "      <th>cheeck</th>\n",
       "      <th>upper_face</th>\n",
       "      <th>mid_face</th>\n",
       "      <th>lower_face</th>\n",
       "    </tr>\n",
       "  </thead>\n",
       "  <tbody>\n",
       "    <tr>\n",
       "      <th>count</th>\n",
       "      <td>249.000000</td>\n",
       "      <td>111.000000</td>\n",
       "      <td>116.000000</td>\n",
       "      <td>101.000000</td>\n",
       "    </tr>\n",
       "    <tr>\n",
       "      <th>mean</th>\n",
       "      <td>723.437751</td>\n",
       "      <td>749.603604</td>\n",
       "      <td>721.896552</td>\n",
       "      <td>703.148515</td>\n",
       "    </tr>\n",
       "    <tr>\n",
       "      <th>std</th>\n",
       "      <td>220.393648</td>\n",
       "      <td>229.234151</td>\n",
       "      <td>212.308569</td>\n",
       "      <td>212.598372</td>\n",
       "    </tr>\n",
       "    <tr>\n",
       "      <th>min</th>\n",
       "      <td>408.000000</td>\n",
       "      <td>417.000000</td>\n",
       "      <td>419.000000</td>\n",
       "      <td>422.000000</td>\n",
       "    </tr>\n",
       "    <tr>\n",
       "      <th>25%</th>\n",
       "      <td>480.000000</td>\n",
       "      <td>495.000000</td>\n",
       "      <td>502.000000</td>\n",
       "      <td>480.000000</td>\n",
       "    </tr>\n",
       "    <tr>\n",
       "      <th>50%</th>\n",
       "      <td>739.000000</td>\n",
       "      <td>765.000000</td>\n",
       "      <td>721.000000</td>\n",
       "      <td>723.000000</td>\n",
       "    </tr>\n",
       "    <tr>\n",
       "      <th>75%</th>\n",
       "      <td>940.000000</td>\n",
       "      <td>961.500000</td>\n",
       "      <td>941.250000</td>\n",
       "      <td>922.000000</td>\n",
       "    </tr>\n",
       "    <tr>\n",
       "      <th>max</th>\n",
       "      <td>1124.000000</td>\n",
       "      <td>1105.000000</td>\n",
       "      <td>1091.000000</td>\n",
       "      <td>1014.000000</td>\n",
       "    </tr>\n",
       "  </tbody>\n",
       "</table>\n",
       "</div>"
      ],
      "text/plain": [
       "            cheeck   upper_face     mid_face   lower_face\n",
       "count   249.000000   111.000000   116.000000   101.000000\n",
       "mean    723.437751   749.603604   721.896552   703.148515\n",
       "std     220.393648   229.234151   212.308569   212.598372\n",
       "min     408.000000   417.000000   419.000000   422.000000\n",
       "25%     480.000000   495.000000   502.000000   480.000000\n",
       "50%     739.000000   765.000000   721.000000   723.000000\n",
       "75%     940.000000   961.500000   941.250000   922.000000\n",
       "max    1124.000000  1105.000000  1091.000000  1014.000000"
      ]
     },
     "execution_count": 57,
     "metadata": {},
     "output_type": "execute_result"
    }
   ],
   "source": [
    "val_h_describe"
   ]
  },
  {
   "cell_type": "code",
   "execution_count": 12,
   "id": "4ced47ee-c58d-413a-8fe7-3161ffe92d56",
   "metadata": {},
   "outputs": [
    {
     "name": "stdout",
     "output_type": "stream",
     "text": [
      "train_mean :  [0.45882353 0.53333333 0.65490196]\n",
      "val_mean :  [0.45490196 0.52941176 0.65490196]\n",
      "all_mean :  [0.45882353 0.53333333 0.65490196]\n",
      "train_std :  [0.14901961 0.16078431 0.18039216]\n",
      "val_std :  [0.15686275 0.16470588 0.18431373]\n",
      "all_std :  [0.14901961 0.16078431 0.18431373]\n"
     ]
    }
   ],
   "source": [
    "# BGR mean & std\n",
    "print('train_mean : ',train_df['mean'].sum()//len(train_df)/255.)\n",
    "print('val_mean : ',val_df['mean'].sum()//len(val_df)/255.)\n",
    "print('all_mean : ',(train_df['mean'].sum()+val_df['mean'].sum())//(len(train_df)+len(val_df))/255.)\n",
    "print('train_std : ',train_df['std'].sum()//len(train_df)/255.)\n",
    "print('val_std : ',val_df['std'].sum()//len(val_df)/255.)\n",
    "print('all_std : ',(train_df['std'].sum()+val_df['std'].sum())//(len(train_df)+len(val_df))/255.)"
   ]
  },
  {
   "cell_type": "code",
   "execution_count": 13,
   "id": "c81d14ec-9b87-42d5-8f29-5ee31ac23e8f",
   "metadata": {
    "tags": []
   },
   "outputs": [
    {
     "data": {
      "image/png": "[encoded data removed]",
      "text/plain": [
       "<Figure size 432x288 with 1 Axes>"
      ]
     },
     "metadata": {
      "needs_background": "light"
     },
     "output_type": "display_data"
    }
   ],
   "source": [
    "# width 는 1024로 고정되어 있음 height 에 따른 train, val kdeplot\n",
    "sns.kdeplot(data = train_df['height'])\n",
    "sns.kdeplot(data = val_df['height'])\n",
    "plt.title('kde of height')\n",
    "plt.legend(['train','val'])\n",
    "plt.show()"
   ]
  },
  {
   "cell_type": "code",
   "execution_count": 14,
   "id": "88604e95-5d66-47a9-b909-2b247da87df0",
   "metadata": {},
   "outputs": [
    {
     "data": {
      "image/png": "[encoded data removed]",
      "text/plain": [
       "<Figure size 720x360 with 2 Axes>"
      ]
     },
     "metadata": {
      "needs_background": "light"
     },
     "output_type": "display_data"
    }
   ],
   "source": [
    "# train, val의 part별 분포\n",
    "part_names = ['cheeck', 'upper_face', 'mid_face', 'lower_face']\n",
    "fig, (ax1, ax2) = plt.subplots(nrows=1, ncols=2, figsize=(10, 5))\n",
    "sns.countplot(train_df['part'],ax=ax1)\n",
    "sns.countplot(val_df['part'],ax=ax2)\n",
    "ax1.set_title('train')\n",
    "ax2.set_title('val')\n",
    "ax1.set_xticklabels(part_names)\n",
    "ax2.set_xticklabels(part_names)\n",
    "plt.show()"
   ]
  },
  {
   "cell_type": "code",
   "execution_count": 15,
   "id": "21cd3c95-ebc2-4ec2-b6f5-4a5caecc4819",
   "metadata": {},
   "outputs": [
    {
     "data": {
      "image/png": "[encoded data removed]",
      "text/plain": [
       "<Figure size 1080x216 with 5 Axes>"
      ]
     },
     "metadata": {
      "needs_background": "light"
     },
     "output_type": "display_data"
    },
    {
     "data": {
      "image/png": "[encoded data removed]",
      "text/plain": [
       "<Figure size 1080x216 with 5 Axes>"
      ]
     },
     "metadata": {
      "needs_background": "light"
     },
     "output_type": "display_data"
    },
    {
     "data": {
      "image/png": "[encoded data removed]",
      "text/plain": [
       "<Figure size 1080x216 with 5 Axes>"
      ]
     },
     "metadata": {
      "needs_background": "light"
     },
     "output_type": "display_data"
    },
    {
     "data": {
      "image/png": "[encoded data removed]",
      "text/plain": [
       "<Figure size 1080x216 with 5 Axes>"
      ]
     },
     "metadata": {
      "needs_background": "light"
     },
     "output_type": "display_data"
    }
   ],
   "source": [
    "# trainset 각 카테고리별 점수 분포\n",
    "for part in [0,1,2,3]:\n",
    "    fig, axes = plt.subplots(nrows=1, ncols=5, figsize=(15, 3),constrained_layout=True)\n",
    "    for idx, item in enumerate(['oil','sensitive','pigmentation','wrinkle','hydration']):\n",
    "        sns.countplot(train_df[train_df['part']==part][item], order = range(-2,5), ax = axes[idx])\n",
    "        axes[idx].set_xlabel(item, fontsize = 15)\n",
    "    fig.suptitle(part_names[part], fontsize=20)\n",
    "    plt.show()"
   ]
  },
  {
   "cell_type": "code",
   "execution_count": 16,
   "id": "0932b87b-6318-4b89-a5fc-e93f558da4ab",
   "metadata": {},
   "outputs": [
    {
     "data": {
      "image/png": "[encoded data removed]",
      "text/plain": [
       "<Figure size 1080x216 with 5 Axes>"
      ]
     },
     "metadata": {
      "needs_background": "light"
     },
     "output_type": "display_data"
    },
    {
     "data": {
      "image/png": "[encoded data removed]",
      "text/plain": [
       "<Figure size 1080x216 with 5 Axes>"
      ]
     },
     "metadata": {
      "needs_background": "light"
     },
     "output_type": "display_data"
    },
    {
     "data": {
      "image/png": "[encoded data removed]",
      "text/plain": [
       "<Figure size 1080x216 with 5 Axes>"
      ]
     },
     "metadata": {
      "needs_background": "light"
     },
     "output_type": "display_data"
    },
    {
     "data": {
      "image/png": "[encoded data removed]",
      "text/plain": [
       "<Figure size 1080x216 with 5 Axes>"
      ]
     },
     "metadata": {
      "needs_background": "light"
     },
     "output_type": "display_data"
    }
   ],
   "source": [
    "# validation set 각 카테고리별 점수 분포\n",
    "part_names = ['cheeck', 'upper_face', 'mid_face', 'lower_face']\n",
    "for part in [0,1,2,3]:\n",
    "    fig, axes = plt.subplots(nrows=1, ncols=5, figsize=(15, 3),constrained_layout=True)\n",
    "    for idx, item in enumerate(['oil','sensitive','pigmentation','wrinkle','hydration']):\n",
    "        sns.countplot(val_df[val_df['part']==part][item], order = range(-2,5), ax = axes[idx])\n",
    "        axes[idx].set_xlabel(item, fontsize = 15)\n",
    "    fig.suptitle(part_names[part], fontsize=20)\n",
    "    plt.show()"
   ]
  },
  {
   "cell_type": "code",
   "execution_count": 30,
   "id": "5ee0e17e-52f3-40e3-a15b-2e93ef787b28",
   "metadata": {},
   "outputs": [],
   "source": [
    "corr_train = train_df.copy()\n",
    "for i in range(len(train_df)):\n",
    "    for cat in ['oil','sensitive','pigmentation','wrinkle','hydration']:\n",
    "        if train_df[cat][i] < 0:\n",
    "            corr_train[cat][i] = None\n",
    "corr_val = val_df.copy()\n",
    "for i in range(len(val_df)):\n",
    "    for cat in ['oil','sensitive','pigmentation','wrinkle','hydration']:\n",
    "        if val_df[cat][i] < 0:\n",
    "            corr_val[cat][i] = None"
   ]
  },
  {
   "cell_type": "code",
   "execution_count": 31,
   "id": "b2838da0-186b-4b74-ac2d-f607c1d54853",
   "metadata": {},
   "outputs": [
    {
     "data": {
      "text/html": [
       "<div>\n",
       "<style scoped>\n",
       "    .dataframe tbody tr th:only-of-type {\n",
       "        vertical-align: middle;\n",
       "    }\n",
       "\n",
       "    .dataframe tbody tr th {\n",
       "        vertical-align: top;\n",
       "    }\n",
       "\n",
       "    .dataframe thead th {\n",
       "        text-align: right;\n",
       "    }\n",
       "</style>\n",
       "<table border=\"1\" class=\"dataframe\">\n",
       "  <thead>\n",
       "    <tr style=\"text-align: right;\">\n",
       "      <th></th>\n",
       "      <th>width</th>\n",
       "      <th>height</th>\n",
       "      <th>part</th>\n",
       "      <th>oil</th>\n",
       "      <th>sensitive</th>\n",
       "      <th>pigmentation</th>\n",
       "      <th>wrinkle</th>\n",
       "      <th>hydration</th>\n",
       "    </tr>\n",
       "  </thead>\n",
       "  <tbody>\n",
       "    <tr>\n",
       "      <th>count</th>\n",
       "      <td>3398.0</td>\n",
       "      <td>3398.000000</td>\n",
       "      <td>3398.000000</td>\n",
       "      <td>2710.000000</td>\n",
       "      <td>3390.000000</td>\n",
       "      <td>2038.000000</td>\n",
       "      <td>2031.000000</td>\n",
       "      <td>679.000000</td>\n",
       "    </tr>\n",
       "    <tr>\n",
       "      <th>mean</th>\n",
       "      <td>1024.0</td>\n",
       "      <td>710.293996</td>\n",
       "      <td>1.200706</td>\n",
       "      <td>1.887823</td>\n",
       "      <td>0.759292</td>\n",
       "      <td>1.249755</td>\n",
       "      <td>0.917282</td>\n",
       "      <td>1.942563</td>\n",
       "    </tr>\n",
       "    <tr>\n",
       "      <th>std</th>\n",
       "      <td>0.0</td>\n",
       "      <td>211.878142</td>\n",
       "      <td>1.166342</td>\n",
       "      <td>0.707993</td>\n",
       "      <td>0.745911</td>\n",
       "      <td>0.943644</td>\n",
       "      <td>0.859059</td>\n",
       "      <td>0.981210</td>\n",
       "    </tr>\n",
       "    <tr>\n",
       "      <th>min</th>\n",
       "      <td>1024.0</td>\n",
       "      <td>332.000000</td>\n",
       "      <td>0.000000</td>\n",
       "      <td>0.000000</td>\n",
       "      <td>0.000000</td>\n",
       "      <td>0.000000</td>\n",
       "      <td>0.000000</td>\n",
       "      <td>0.000000</td>\n",
       "    </tr>\n",
       "    <tr>\n",
       "      <th>25%</th>\n",
       "      <td>1024.0</td>\n",
       "      <td>488.000000</td>\n",
       "      <td>0.000000</td>\n",
       "      <td>1.000000</td>\n",
       "      <td>0.000000</td>\n",
       "      <td>1.000000</td>\n",
       "      <td>0.000000</td>\n",
       "      <td>1.000000</td>\n",
       "    </tr>\n",
       "    <tr>\n",
       "      <th>50%</th>\n",
       "      <td>1024.0</td>\n",
       "      <td>722.000000</td>\n",
       "      <td>1.000000</td>\n",
       "      <td>2.000000</td>\n",
       "      <td>1.000000</td>\n",
       "      <td>1.000000</td>\n",
       "      <td>1.000000</td>\n",
       "      <td>2.000000</td>\n",
       "    </tr>\n",
       "    <tr>\n",
       "      <th>75%</th>\n",
       "      <td>1024.0</td>\n",
       "      <td>923.000000</td>\n",
       "      <td>2.000000</td>\n",
       "      <td>2.000000</td>\n",
       "      <td>1.000000</td>\n",
       "      <td>2.000000</td>\n",
       "      <td>1.000000</td>\n",
       "      <td>3.000000</td>\n",
       "    </tr>\n",
       "    <tr>\n",
       "      <th>max</th>\n",
       "      <td>1024.0</td>\n",
       "      <td>1309.000000</td>\n",
       "      <td>3.000000</td>\n",
       "      <td>4.000000</td>\n",
       "      <td>4.000000</td>\n",
       "      <td>4.000000</td>\n",
       "      <td>4.000000</td>\n",
       "      <td>4.000000</td>\n",
       "    </tr>\n",
       "  </tbody>\n",
       "</table>\n",
       "</div>"
      ],
      "text/plain": [
       "        width       height         part          oil    sensitive  \\\n",
       "count  3398.0  3398.000000  3398.000000  2710.000000  3390.000000   \n",
       "mean   1024.0   710.293996     1.200706     1.887823     0.759292   \n",
       "std       0.0   211.878142     1.166342     0.707993     0.745911   \n",
       "min    1024.0   332.000000     0.000000     0.000000     0.000000   \n",
       "25%    1024.0   488.000000     0.000000     1.000000     0.000000   \n",
       "50%    1024.0   722.000000     1.000000     2.000000     1.000000   \n",
       "75%    1024.0   923.000000     2.000000     2.000000     1.000000   \n",
       "max    1024.0  1309.000000     3.000000     4.000000     4.000000   \n",
       "\n",
       "       pigmentation      wrinkle   hydration  \n",
       "count   2038.000000  2031.000000  679.000000  \n",
       "mean       1.249755     0.917282    1.942563  \n",
       "std        0.943644     0.859059    0.981210  \n",
       "min        0.000000     0.000000    0.000000  \n",
       "25%        1.000000     0.000000    1.000000  \n",
       "50%        1.000000     1.000000    2.000000  \n",
       "75%        2.000000     1.000000    3.000000  \n",
       "max        4.000000     4.000000    4.000000  "
      ]
     },
     "execution_count": 31,
     "metadata": {},
     "output_type": "execute_result"
    }
   ],
   "source": [
    "corr_train.describe()"
   ]
  },
  {
   "cell_type": "code",
   "execution_count": 37,
   "id": "345989bb-8ccb-4500-934d-4a7424a99255",
   "metadata": {},
   "outputs": [
    {
     "data": {
      "text/html": [
       "<div>\n",
       "<style scoped>\n",
       "    .dataframe tbody tr th:only-of-type {\n",
       "        vertical-align: middle;\n",
       "    }\n",
       "\n",
       "    .dataframe tbody tr th {\n",
       "        vertical-align: top;\n",
       "    }\n",
       "\n",
       "    .dataframe thead th {\n",
       "        text-align: right;\n",
       "    }\n",
       "</style>\n",
       "<table border=\"1\" class=\"dataframe\">\n",
       "  <thead>\n",
       "    <tr style=\"text-align: right;\">\n",
       "      <th></th>\n",
       "      <th>width</th>\n",
       "      <th>height</th>\n",
       "      <th>part</th>\n",
       "      <th>oil</th>\n",
       "      <th>sensitive</th>\n",
       "      <th>pigmentation</th>\n",
       "      <th>wrinkle</th>\n",
       "      <th>hydration</th>\n",
       "    </tr>\n",
       "  </thead>\n",
       "  <tbody>\n",
       "    <tr>\n",
       "      <th>count</th>\n",
       "      <td>577.0</td>\n",
       "      <td>577.000000</td>\n",
       "      <td>577.000000</td>\n",
       "      <td>462.000000</td>\n",
       "      <td>577.000000</td>\n",
       "      <td>347.000000</td>\n",
       "      <td>345.000000</td>\n",
       "      <td>115.000000</td>\n",
       "    </tr>\n",
       "    <tr>\n",
       "      <th>mean</th>\n",
       "      <td>1024.0</td>\n",
       "      <td>724.610052</td>\n",
       "      <td>1.195841</td>\n",
       "      <td>1.573593</td>\n",
       "      <td>0.740035</td>\n",
       "      <td>1.420749</td>\n",
       "      <td>0.805797</td>\n",
       "      <td>1.800000</td>\n",
       "    </tr>\n",
       "    <tr>\n",
       "      <th>std</th>\n",
       "      <td>0.0</td>\n",
       "      <td>219.085002</td>\n",
       "      <td>1.167314</td>\n",
       "      <td>0.636895</td>\n",
       "      <td>0.705884</td>\n",
       "      <td>0.968538</td>\n",
       "      <td>0.976450</td>\n",
       "      <td>1.140945</td>\n",
       "    </tr>\n",
       "    <tr>\n",
       "      <th>min</th>\n",
       "      <td>1024.0</td>\n",
       "      <td>408.000000</td>\n",
       "      <td>0.000000</td>\n",
       "      <td>0.000000</td>\n",
       "      <td>0.000000</td>\n",
       "      <td>0.000000</td>\n",
       "      <td>0.000000</td>\n",
       "      <td>0.000000</td>\n",
       "    </tr>\n",
       "    <tr>\n",
       "      <th>25%</th>\n",
       "      <td>1024.0</td>\n",
       "      <td>489.000000</td>\n",
       "      <td>0.000000</td>\n",
       "      <td>1.000000</td>\n",
       "      <td>0.000000</td>\n",
       "      <td>1.000000</td>\n",
       "      <td>0.000000</td>\n",
       "      <td>1.000000</td>\n",
       "    </tr>\n",
       "    <tr>\n",
       "      <th>50%</th>\n",
       "      <td>1024.0</td>\n",
       "      <td>738.000000</td>\n",
       "      <td>1.000000</td>\n",
       "      <td>2.000000</td>\n",
       "      <td>1.000000</td>\n",
       "      <td>1.000000</td>\n",
       "      <td>0.000000</td>\n",
       "      <td>2.000000</td>\n",
       "    </tr>\n",
       "    <tr>\n",
       "      <th>75%</th>\n",
       "      <td>1024.0</td>\n",
       "      <td>944.000000</td>\n",
       "      <td>2.000000</td>\n",
       "      <td>2.000000</td>\n",
       "      <td>1.000000</td>\n",
       "      <td>2.000000</td>\n",
       "      <td>1.000000</td>\n",
       "      <td>2.000000</td>\n",
       "    </tr>\n",
       "    <tr>\n",
       "      <th>max</th>\n",
       "      <td>1024.0</td>\n",
       "      <td>1124.000000</td>\n",
       "      <td>3.000000</td>\n",
       "      <td>3.000000</td>\n",
       "      <td>3.000000</td>\n",
       "      <td>4.000000</td>\n",
       "      <td>4.000000</td>\n",
       "      <td>4.000000</td>\n",
       "    </tr>\n",
       "  </tbody>\n",
       "</table>\n",
       "</div>"
      ],
      "text/plain": [
       "        width       height        part         oil   sensitive  pigmentation  \\\n",
       "count   577.0   577.000000  577.000000  462.000000  577.000000    347.000000   \n",
       "mean   1024.0   724.610052    1.195841    1.573593    0.740035      1.420749   \n",
       "std       0.0   219.085002    1.167314    0.636895    0.705884      0.968538   \n",
       "min    1024.0   408.000000    0.000000    0.000000    0.000000      0.000000   \n",
       "25%    1024.0   489.000000    0.000000    1.000000    0.000000      1.000000   \n",
       "50%    1024.0   738.000000    1.000000    2.000000    1.000000      1.000000   \n",
       "75%    1024.0   944.000000    2.000000    2.000000    1.000000      2.000000   \n",
       "max    1024.0  1124.000000    3.000000    3.000000    3.000000      4.000000   \n",
       "\n",
       "          wrinkle   hydration  \n",
       "count  345.000000  115.000000  \n",
       "mean     0.805797    1.800000  \n",
       "std      0.976450    1.140945  \n",
       "min      0.000000    0.000000  \n",
       "25%      0.000000    1.000000  \n",
       "50%      0.000000    2.000000  \n",
       "75%      1.000000    2.000000  \n",
       "max      4.000000    4.000000  "
      ]
     },
     "execution_count": 37,
     "metadata": {},
     "output_type": "execute_result"
    }
   ],
   "source": [
    "corr_val.describe()"
   ]
  },
  {
   "cell_type": "code",
   "execution_count": 46,
   "id": "7dccc201-ed10-42d4-98fb-46128151b6ff",
   "metadata": {},
   "outputs": [
    {
     "data": {
      "text/html": [
       "<div>\n",
       "<style scoped>\n",
       "    .dataframe tbody tr th:only-of-type {\n",
       "        vertical-align: middle;\n",
       "    }\n",
       "\n",
       "    .dataframe tbody tr th {\n",
       "        vertical-align: top;\n",
       "    }\n",
       "\n",
       "    .dataframe thead th {\n",
       "        text-align: right;\n",
       "    }\n",
       "</style>\n",
       "<table border=\"1\" class=\"dataframe\">\n",
       "  <thead>\n",
       "    <tr style=\"text-align: right;\">\n",
       "      <th></th>\n",
       "      <th>oil</th>\n",
       "      <th>sensitive</th>\n",
       "      <th>pigmentation</th>\n",
       "      <th>wrinkle</th>\n",
       "      <th>hydration</th>\n",
       "    </tr>\n",
       "  </thead>\n",
       "  <tbody>\n",
       "    <tr>\n",
       "      <th>oil</th>\n",
       "      <td>1.000000</td>\n",
       "      <td>0.133035</td>\n",
       "      <td>-0.080559</td>\n",
       "      <td>-0.069456</td>\n",
       "      <td>NaN</td>\n",
       "    </tr>\n",
       "    <tr>\n",
       "      <th>sensitive</th>\n",
       "      <td>0.133035</td>\n",
       "      <td>1.000000</td>\n",
       "      <td>-0.141200</td>\n",
       "      <td>-0.123241</td>\n",
       "      <td>-0.049455</td>\n",
       "    </tr>\n",
       "    <tr>\n",
       "      <th>pigmentation</th>\n",
       "      <td>-0.080559</td>\n",
       "      <td>-0.141200</td>\n",
       "      <td>1.000000</td>\n",
       "      <td>0.219395</td>\n",
       "      <td>NaN</td>\n",
       "    </tr>\n",
       "    <tr>\n",
       "      <th>wrinkle</th>\n",
       "      <td>-0.069456</td>\n",
       "      <td>-0.123241</td>\n",
       "      <td>0.219395</td>\n",
       "      <td>1.000000</td>\n",
       "      <td>0.001395</td>\n",
       "    </tr>\n",
       "    <tr>\n",
       "      <th>hydration</th>\n",
       "      <td>NaN</td>\n",
       "      <td>-0.049455</td>\n",
       "      <td>NaN</td>\n",
       "      <td>0.001395</td>\n",
       "      <td>1.000000</td>\n",
       "    </tr>\n",
       "  </tbody>\n",
       "</table>\n",
       "</div>"
      ],
      "text/plain": [
       "                   oil  sensitive  pigmentation   wrinkle  hydration\n",
       "oil           1.000000   0.133035     -0.080559 -0.069456        NaN\n",
       "sensitive     0.133035   1.000000     -0.141200 -0.123241  -0.049455\n",
       "pigmentation -0.080559  -0.141200      1.000000  0.219395        NaN\n",
       "wrinkle      -0.069456  -0.123241      0.219395  1.000000   0.001395\n",
       "hydration          NaN  -0.049455           NaN  0.001395   1.000000"
      ]
     },
     "execution_count": 46,
     "metadata": {},
     "output_type": "execute_result"
    }
   ],
   "source": [
    "corr_train[['oil','sensitive','pigmentation','wrinkle','hydration']].corr()"
   ]
  },
  {
   "cell_type": "code",
   "execution_count": 47,
   "id": "0e83e6e1-8c89-4ae3-8340-b1156b544c3e",
   "metadata": {},
   "outputs": [
    {
     "data": {
      "text/html": [
       "<div>\n",
       "<style scoped>\n",
       "    .dataframe tbody tr th:only-of-type {\n",
       "        vertical-align: middle;\n",
       "    }\n",
       "\n",
       "    .dataframe tbody tr th {\n",
       "        vertical-align: top;\n",
       "    }\n",
       "\n",
       "    .dataframe thead th {\n",
       "        text-align: right;\n",
       "    }\n",
       "</style>\n",
       "<table border=\"1\" class=\"dataframe\">\n",
       "  <thead>\n",
       "    <tr style=\"text-align: right;\">\n",
       "      <th></th>\n",
       "      <th>oil</th>\n",
       "      <th>sensitive</th>\n",
       "      <th>pigmentation</th>\n",
       "      <th>wrinkle</th>\n",
       "      <th>hydration</th>\n",
       "    </tr>\n",
       "  </thead>\n",
       "  <tbody>\n",
       "    <tr>\n",
       "      <th>oil</th>\n",
       "      <td>1.000000</td>\n",
       "      <td>0.247426</td>\n",
       "      <td>-0.302494</td>\n",
       "      <td>-0.355184</td>\n",
       "      <td>NaN</td>\n",
       "    </tr>\n",
       "    <tr>\n",
       "      <th>sensitive</th>\n",
       "      <td>0.247426</td>\n",
       "      <td>1.000000</td>\n",
       "      <td>-0.034988</td>\n",
       "      <td>-0.148873</td>\n",
       "      <td>-0.228090</td>\n",
       "    </tr>\n",
       "    <tr>\n",
       "      <th>pigmentation</th>\n",
       "      <td>-0.302494</td>\n",
       "      <td>-0.034988</td>\n",
       "      <td>1.000000</td>\n",
       "      <td>0.162026</td>\n",
       "      <td>NaN</td>\n",
       "    </tr>\n",
       "    <tr>\n",
       "      <th>wrinkle</th>\n",
       "      <td>-0.355184</td>\n",
       "      <td>-0.148873</td>\n",
       "      <td>0.162026</td>\n",
       "      <td>1.000000</td>\n",
       "      <td>0.182905</td>\n",
       "    </tr>\n",
       "    <tr>\n",
       "      <th>hydration</th>\n",
       "      <td>NaN</td>\n",
       "      <td>-0.228090</td>\n",
       "      <td>NaN</td>\n",
       "      <td>0.182905</td>\n",
       "      <td>1.000000</td>\n",
       "    </tr>\n",
       "  </tbody>\n",
       "</table>\n",
       "</div>"
      ],
      "text/plain": [
       "                   oil  sensitive  pigmentation   wrinkle  hydration\n",
       "oil           1.000000   0.247426     -0.302494 -0.355184        NaN\n",
       "sensitive     0.247426   1.000000     -0.034988 -0.148873  -0.228090\n",
       "pigmentation -0.302494  -0.034988      1.000000  0.162026        NaN\n",
       "wrinkle      -0.355184  -0.148873      0.162026  1.000000   0.182905\n",
       "hydration          NaN  -0.228090           NaN  0.182905   1.000000"
      ]
     },
     "execution_count": 47,
     "metadata": {},
     "output_type": "execute_result"
    }
   ],
   "source": [
    "corr_val[['oil','sensitive','pigmentation','wrinkle','hydration']].corr()"
   ]
  },
  {
   "cell_type": "code",
   "execution_count": null,
   "id": "dd453976-0a82-4e5f-ae2b-75be2abea958",
   "metadata": {},
   "outputs": [],
   "source": []
  }
 ],
 "metadata": {
  "kernelspec": {
   "display_name": "Python 3",
   "language": "python",
   "name": "python3"
  },
  "language_info": {
   "codemirror_mode": {
    "name": "ipython",
    "version": 3
   },
   "file_extension": ".py",
   "mimetype": "text/x-python",
   "name": "python",
   "nbconvert_exporter": "python",
   "pygments_lexer": "ipython3",
   "version": "3.8.5"
  }
 },
 "nbformat": 4,
 "nbformat_minor": 5
}
