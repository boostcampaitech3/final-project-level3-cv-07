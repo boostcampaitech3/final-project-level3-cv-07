{
 "cells": [
  {
   "cell_type": "code",
   "execution_count": 3,
   "id": "1600f343-0d00-4ef4-b07b-d6839eaa8d75",
   "metadata": {},
   "outputs": [
    {
     "ename": "ImportError",
     "evalue": "attempted relative import with no known parent package",
     "output_type": "error",
     "traceback": [
      "\u001b[0;31m---------------------------------------------------------------------------\u001b[0m",
      "\u001b[0;31mImportError\u001b[0m                               Traceback (most recent call last)",
      "\u001b[1;32m/opt/ml/input/code/grad-cam/grad_cam.ipynb Cell 1'\u001b[0m in \u001b[0;36m<cell line: 10>\u001b[0;34m()\u001b[0m\n\u001b[1;32m      <a href='vscode-notebook-cell://ssh-remote%2B115.85.181.112/opt/ml/input/code/grad-cam/grad_cam.ipynb#ch0000000vscode-remote?line=7'>8</a>\u001b[0m \u001b[39mimport\u001b[39;00m \u001b[39mmatplotlib\u001b[39;00m\u001b[39m.\u001b[39;00m\u001b[39mpyplot\u001b[39;00m \u001b[39mas\u001b[39;00m \u001b[39mplt\u001b[39;00m\n\u001b[1;32m      <a href='vscode-notebook-cell://ssh-remote%2B115.85.181.112/opt/ml/input/code/grad-cam/grad_cam.ipynb#ch0000000vscode-remote?line=8'>9</a>\u001b[0m \u001b[39mimport\u001b[39;00m \u001b[39mnumpy\u001b[39;00m \u001b[39mas\u001b[39;00m \u001b[39mnp\u001b[39;00m\n\u001b[0;32m---> <a href='vscode-notebook-cell://ssh-remote%2B115.85.181.112/opt/ml/input/code/grad-cam/grad_cam.ipynb#ch0000000vscode-remote?line=9'>10</a>\u001b[0m \u001b[39mfrom\u001b[39;00m \u001b[39m.\u001b[39;00m\u001b[39m.\u001b[39;00m\u001b[39mmodel\u001b[39;00m\u001b[39m.\u001b[39;00m\u001b[39mmodel\u001b[39;00m \u001b[39mimport\u001b[39;00m convnext_base\n",
      "\u001b[0;31mImportError\u001b[0m: attempted relative import with no known parent package"
     ]
    }
   ],
   "source": [
    "from pytorch_grad_cam import GradCAM, ScoreCAM, GradCAMPlusPlus, AblationCAM, XGradCAM, EigenCAM, FullGrad\n",
    "from pytorch_grad_cam.utils.model_targets import ClassifierOutputTarget\n",
    "from pytorch_grad_cam.utils.image import show_cam_on_image\n",
    "from torchvision.models import resnet50\n",
    "from PIL import Image\n",
    "import torch\n",
    "import torchvision.transforms as transforms\n",
    "import matplotlib.pyplot as plt\n",
    "import numpy as np\n",
    "from model.model import convnext_base"
   ]
  },
  {
   "cell_type": "code",
   "execution_count": 2,
   "id": "d198fe31-6583-486e-90e6-8925ea35238f",
   "metadata": {},
   "outputs": [],
   "source": [
    "model = resnet50(pretrained=True)\n",
    "img = Image.open('../level3-product-serving-level3-cv-07/data/naverboostcamp_train/JPEGImages/00000NBC.jpg')\n",
    "target_layers = [model.norm]\n",
    "targets = [ClassifierOutputTarget(281)]\n",
    "cam = GradCAM(model=model, target_layers=target_layers, use_cuda=True)"
   ]
  },
  {
   "cell_type": "code",
   "execution_count": 17,
   "id": "84953e9a-5628-43fe-8d0f-52809549e0cf",
   "metadata": {},
   "outputs": [],
   "source": [
    "input_tensor = torch.unsqueeze(transforms.ToTensor()(img),0)"
   ]
  },
  {
   "cell_type": "code",
   "execution_count": 17,
   "id": "55418022-4634-4486-b095-8944170c1f42",
   "metadata": {},
   "outputs": [
    {
     "name": "stderr",
     "output_type": "stream",
     "text": [
      "100%|██████████| 128/128 [00:36<00:00,  3.53it/s]\n"
     ]
    }
   ],
   "source": [
    "grayscale_cam = cam(input_tensor=input_tensor, targets=targets)"
   ]
  },
  {
   "cell_type": "code",
   "execution_count": 18,
   "id": "131e181a-b271-4e24-92f5-2e6619402cca",
   "metadata": {},
   "outputs": [],
   "source": [
    "# In this example grayscale_cam has only one image in the batch:\n",
    "grayscale_cam = grayscale_cam[0, :]\n",
    "visualization = show_cam_on_image(np.array(img)/255., grayscale_cam, use_rgb=True)"
   ]
  }
 ],
 "metadata": {
  "interpreter": {
   "hash": "d4d1e4263499bec80672ea0156c357c1ee493ec2b1c70f0acce89fc37c4a6abe"
  },
  "kernelspec": {
   "display_name": "Python 3.8.5 ('base')",
   "language": "python",
   "name": "python3"
  },
  "language_info": {
   "codemirror_mode": {
    "name": "ipython",
    "version": 3
   },
   "file_extension": ".py",
   "mimetype": "text/x-python",
   "name": "python",
   "nbconvert_exporter": "python",
   "pygments_lexer": "ipython3",
   "version": "3.8.5"
  }
 },
 "nbformat": 4,
 "nbformat_minor": 5
}
